{
 "cells": [
  {
   "cell_type": "markdown",
   "metadata": {
    "collapsed": false,
    "jupyter": {
     "outputs_hidden": false
    },
    "pycharm": {
     "is_executing": true
    }
   },
   "source": [
    "Создание data_csv для обучение и валидации модели. "
   ]
  },
  {
   "cell_type": "code",
   "execution_count": 1,
   "metadata": {},
   "outputs": [],
   "source": [
    "import os\n",
    "import sys\n",
    "import warnings\n",
    "\n",
    "warnings.filterwarnings(\"ignore\")\n",
    "sys.path.append(\"../scr/utils\")\n",
    "\n",
    "import pandas as pd\n",
    "import numpy as np\n",
    "from sklearn.model_selection import StratifiedKFold\n",
    "\n",
    "from constant import IGNORE_AUDIO, label_dict, sample_melee_100"
   ]
  },
  {
   "cell_type": "code",
   "execution_count": 2,
   "metadata": {},
   "outputs": [
    {
     "data": {
      "text/html": [
       "<div>\n",
       "<style scoped>\n",
       "    .dataframe tbody tr th:only-of-type {\n",
       "        vertical-align: middle;\n",
       "    }\n",
       "\n",
       "    .dataframe tbody tr th {\n",
       "        vertical-align: top;\n",
       "    }\n",
       "\n",
       "    .dataframe thead th {\n",
       "        text-align: right;\n",
       "    }\n",
       "</style>\n",
       "<table border=\"1\" class=\"dataframe\">\n",
       "  <thead>\n",
       "    <tr style=\"text-align: right;\">\n",
       "      <th></th>\n",
       "      <th>primary_label</th>\n",
       "      <th>secondary_labels</th>\n",
       "      <th>filename</th>\n",
       "    </tr>\n",
       "  </thead>\n",
       "  <tbody>\n",
       "    <tr>\n",
       "      <th>0</th>\n",
       "      <td>abethr1</td>\n",
       "      <td>[]</td>\n",
       "      <td>abethr1/XC128013.ogg</td>\n",
       "    </tr>\n",
       "    <tr>\n",
       "      <th>1</th>\n",
       "      <td>abethr1</td>\n",
       "      <td>[]</td>\n",
       "      <td>abethr1/XC363501.ogg</td>\n",
       "    </tr>\n",
       "    <tr>\n",
       "      <th>2</th>\n",
       "      <td>abethr1</td>\n",
       "      <td>[]</td>\n",
       "      <td>abethr1/XC363502.ogg</td>\n",
       "    </tr>\n",
       "    <tr>\n",
       "      <th>3</th>\n",
       "      <td>abethr1</td>\n",
       "      <td>[]</td>\n",
       "      <td>abethr1/XC363503.ogg</td>\n",
       "    </tr>\n",
       "    <tr>\n",
       "      <th>4</th>\n",
       "      <td>abethr1</td>\n",
       "      <td>[]</td>\n",
       "      <td>abethr1/XC363504.ogg</td>\n",
       "    </tr>\n",
       "  </tbody>\n",
       "</table>\n",
       "</div>"
      ],
      "text/plain": [
       "  primary_label secondary_labels              filename\n",
       "0       abethr1               []  abethr1/XC128013.ogg\n",
       "1       abethr1               []  abethr1/XC363501.ogg\n",
       "2       abethr1               []  abethr1/XC363502.ogg\n",
       "3       abethr1               []  abethr1/XC363503.ogg\n",
       "4       abethr1               []  abethr1/XC363504.ogg"
      ]
     },
     "execution_count": 2,
     "metadata": {},
     "output_type": "execute_result"
    }
   ],
   "source": [
    "# Посмотрим на данные которые есть в данных изначально \n",
    "\n",
    "path_to_base_df = \"../data/train_base.csv\"\n",
    "\n",
    "df_base = pd.read_csv(path_to_base_df, usecols=['primary_label', 'secondary_labels', 'filename'])\n",
    "df_base.head()"
   ]
  },
  {
   "cell_type": "code",
   "execution_count": 3,
   "metadata": {},
   "outputs": [
    {
     "data": {
      "text/html": [
       "<div>\n",
       "<style scoped>\n",
       "    .dataframe tbody tr th:only-of-type {\n",
       "        vertical-align: middle;\n",
       "    }\n",
       "\n",
       "    .dataframe tbody tr th {\n",
       "        vertical-align: top;\n",
       "    }\n",
       "\n",
       "    .dataframe thead th {\n",
       "        text-align: right;\n",
       "    }\n",
       "</style>\n",
       "<table border=\"1\" class=\"dataframe\">\n",
       "  <thead>\n",
       "    <tr style=\"text-align: right;\">\n",
       "      <th></th>\n",
       "      <th>primary_label</th>\n",
       "      <th>secondary_labels</th>\n",
       "      <th>filename</th>\n",
       "    </tr>\n",
       "  </thead>\n",
       "  <tbody>\n",
       "    <tr>\n",
       "      <th>5</th>\n",
       "      <td>abethr1</td>\n",
       "      <td>['rbsrob1']</td>\n",
       "      <td>abethr1/XC379322.ogg</td>\n",
       "    </tr>\n",
       "    <tr>\n",
       "      <th>11</th>\n",
       "      <td>abethr1</td>\n",
       "      <td>['eswdov1', 'helgui', 'rindov']</td>\n",
       "      <td>abethr1/XC606253.ogg</td>\n",
       "    </tr>\n",
       "    <tr>\n",
       "      <th>15</th>\n",
       "      <td>abhori1</td>\n",
       "      <td>['combul2']</td>\n",
       "      <td>abhori1/XC120250.ogg</td>\n",
       "    </tr>\n",
       "    <tr>\n",
       "      <th>16</th>\n",
       "      <td>abhori1</td>\n",
       "      <td>['rindov']</td>\n",
       "      <td>abhori1/XC120251.ogg</td>\n",
       "    </tr>\n",
       "    <tr>\n",
       "      <th>17</th>\n",
       "      <td>abhori1</td>\n",
       "      <td>['blbpuf2', 'fotdro5', 'reedov1']</td>\n",
       "      <td>abhori1/XC127317.ogg</td>\n",
       "    </tr>\n",
       "  </tbody>\n",
       "</table>\n",
       "</div>"
      ],
      "text/plain": [
       "   primary_label                   secondary_labels              filename\n",
       "5        abethr1                        ['rbsrob1']  abethr1/XC379322.ogg\n",
       "11       abethr1    ['eswdov1', 'helgui', 'rindov']  abethr1/XC606253.ogg\n",
       "15       abhori1                        ['combul2']  abhori1/XC120250.ogg\n",
       "16       abhori1                         ['rindov']  abhori1/XC120251.ogg\n",
       "17       abhori1  ['blbpuf2', 'fotdro5', 'reedov1']  abhori1/XC127317.ogg"
      ]
     },
     "execution_count": 3,
     "metadata": {},
     "output_type": "execute_result"
    }
   ],
   "source": [
    "df_base[df_base.secondary_labels != \"[]\"].head()"
   ]
  },
  {
   "cell_type": "code",
   "execution_count": 4,
   "metadata": {},
   "outputs": [
    {
     "name": "stdout",
     "output_type": "stream",
     "text": [
      "Кол-во разных птиц (лейблов) в наших данных: 264\n"
     ]
    }
   ],
   "source": [
    "print(f\"Кол-во разных птиц (лейблов) в наших данных: {df_base.primary_label.nunique()}\") "
   ]
  },
  {
   "cell_type": "markdown",
   "metadata": {},
   "source": [
    "Как мы видим в наших данных есть сэмплы, в которых на аудиозаписях встречается не одна птица. А на фоне слышны и другие птицы. Посмотрим кол-во таких аудиозаписей и уберем их из наших входных данных. "
   ]
  },
  {
   "cell_type": "code",
   "execution_count": 5,
   "metadata": {},
   "outputs": [
    {
     "name": "stdout",
     "output_type": "stream",
     "text": [
      "Старый обьем данных: 16941\n",
      "Новый  обьем данных: 14636\n"
     ]
    }
   ],
   "source": [
    "old_size = df_base.shape[0]\n",
    "df_base = df_base[~(df_base.secondary_labels != \"[]\")]\n",
    "new_size  = df_base.shape[0]\n",
    "\n",
    "print(f\"Старый обьем данных: {old_size}\")\n",
    "print(f\"Новый  обьем данных: {new_size}\")"
   ]
  },
  {
   "cell_type": "code",
   "execution_count": 6,
   "metadata": {},
   "outputs": [
    {
     "data": {
      "text/plain": [
       "primary_label\n",
       "comsan     492\n",
       "barswa     491\n",
       "wlwwar     480\n",
       "eaywag1    480\n",
       "combuz1    466\n",
       "          ... \n",
       "yebsto1      1\n",
       "afpkin1      1\n",
       "whhsaw1      1\n",
       "brtcha1      1\n",
       "whctur2      1\n",
       "Name: count, Length: 263, dtype: int64"
      ]
     },
     "execution_count": 6,
     "metadata": {},
     "output_type": "execute_result"
    }
   ],
   "source": [
    "#Посмотрим сбалансированность данных. (Кол-во сэмплов под определенные таргеты)\n",
    "df_base.primary_label.value_counts()"
   ]
  },
  {
   "cell_type": "code",
   "execution_count": 7,
   "metadata": {},
   "outputs": [
    {
     "data": {
      "text/plain": [
       "107"
      ]
     },
     "execution_count": 7,
     "metadata": {},
     "output_type": "execute_result"
    }
   ],
   "source": [
    "# Посмотрим кол-во лейблов у которых кол-во сэмплов меньше 20 \n",
    "sum(df_base.primary_label.value_counts() < 20)"
   ]
  },
  {
   "cell_type": "markdown",
   "metadata": {
    "jp-MarkdownHeadingCollapsed": true
   },
   "source": [
    "Наши данные сильно несбалансированны. Было решено: \n",
    "- Вручную прослушать аудиозаписи для rare_bird (Птицы, у которых не более 10 сэмплов в данных, и убрать из данных сильно зашумленные аудиозаписи. (Добавили в список IGNOR_AUDIO)\n",
    "- Для всех птиц у которых кол-во сэмплов < 20, Вручную отобрать и догрузить данные с примерами из открытого источника аудиозаписей xeno-canto.org\n",
    "- При дальнейшем обучение моделей использовать метод \"копии и разможнения данных с rare-bird, чтобы модель встречала все лейблы с +- равной периодичностью.\n",
    "  "
   ]
  },
  {
   "cell_type": "code",
   "execution_count": 8,
   "metadata": {},
   "outputs": [
    {
     "name": "stdout",
     "output_type": "stream",
     "text": [
      "Объем данных до удаления зашумленных аудио rare-bird: 14636\n",
      "Объем данных после удаления зашумленных аудио rare-bird: 14623\n"
     ]
    }
   ],
   "source": [
    "old_size = df_base.shape[0]\n",
    "df_base = df_base[~df_base['filename'].str.contains('|'.join(IGNORE_AUDIO), case=False, na=False)]\n",
    "df_base['version'] = 'base'\n",
    "new_size  = df_base.shape[0]\n",
    "\n",
    "print(f\"Объем данных до удаления зашумленных аудио rare-bird: {old_size}\")\n",
    "print(f\"Объем данных после удаления зашумленных аудио rare-bird: {new_size}\")"
   ]
  },
  {
   "cell_type": "code",
   "execution_count": 9,
   "metadata": {},
   "outputs": [
    {
     "name": "stdout",
     "output_type": "stream",
     "text": [
      "Объем данных добавленных вручную - 785\n"
     ]
    }
   ],
   "source": [
    "# Создадим датафрейм с данными, отобранными вручную с сайта xeno-canto.org\n",
    "new_data = {\"primary_label\": [],\n",
    "          \"secondary_labels\": [],\n",
    "          \"filename\": []\n",
    "         }\n",
    "\n",
    "path_to_folder_new = \"../data/add_audio\"\n",
    "\n",
    "for label in os.listdir(path_to_folder_new):\n",
    "    path_to_folder = os.path.join(path_to_folder_new, label)\n",
    "    for filename in os.listdir(path_to_folder):\n",
    "        new_data[\"primary_label\"].append(label)\n",
    "        new_data[\"secondary_labels\"].append([])\n",
    "        new_data[\"filename\"].append(f\"{label}/{filename}\")\n",
    "\n",
    "\n",
    "df_new = pd.DataFrame(new_data)\n",
    "df_new['version'] = 'new'\n",
    "print(f'Объем данных добавленных вручную - {df_new.shape[0]}')"
   ]
  },
  {
   "cell_type": "markdown",
   "metadata": {},
   "source": [
    "Таким образом, вручную нами было добавлено 785 новых сэмплов. \n",
    "Объединим наши данные в один датафрейм и разобьем на тренировочную и валидационную части. "
   ]
  },
  {
   "cell_type": "code",
   "execution_count": 10,
   "metadata": {},
   "outputs": [
    {
     "name": "stdout",
     "output_type": "stream",
     "text": [
      "Размер базовых данных 14623\n",
      "Размер добавленных данных 785\n",
      "Итоговый размер данных 15408\n"
     ]
    }
   ],
   "source": [
    "df = pd.concat([df_new, df_base], ignore_index=True)\n",
    "\n",
    "print(f\"Размер базовых данных {df_base.shape[0]}\")\n",
    "print(f\"Размер добавленных данных {df_new.shape[0]}\")\n",
    "print(f\"Итоговый размер данных {df.shape[0]}\")"
   ]
  },
  {
   "cell_type": "markdown",
   "metadata": {},
   "source": [
    "Закодируем названия лейблов в числовую кодировку с учетом файла label_dict"
   ]
  },
  {
   "cell_type": "code",
   "execution_count": 11,
   "metadata": {},
   "outputs": [
    {
     "data": {
      "text/html": [
       "<div>\n",
       "<style scoped>\n",
       "    .dataframe tbody tr th:only-of-type {\n",
       "        vertical-align: middle;\n",
       "    }\n",
       "\n",
       "    .dataframe tbody tr th {\n",
       "        vertical-align: top;\n",
       "    }\n",
       "\n",
       "    .dataframe thead th {\n",
       "        text-align: right;\n",
       "    }\n",
       "</style>\n",
       "<table border=\"1\" class=\"dataframe\">\n",
       "  <thead>\n",
       "    <tr style=\"text-align: right;\">\n",
       "      <th></th>\n",
       "      <th>primary_label</th>\n",
       "      <th>secondary_labels</th>\n",
       "      <th>filename</th>\n",
       "      <th>version</th>\n",
       "      <th>label</th>\n",
       "    </tr>\n",
       "  </thead>\n",
       "  <tbody>\n",
       "    <tr>\n",
       "      <th>0</th>\n",
       "      <td>abethr1</td>\n",
       "      <td>[]</td>\n",
       "      <td>abethr1/XC300826 - Bare-eyed Thrush - Turdus t...</td>\n",
       "      <td>new</td>\n",
       "      <td>0</td>\n",
       "    </tr>\n",
       "    <tr>\n",
       "      <th>1</th>\n",
       "      <td>abethr1</td>\n",
       "      <td>[]</td>\n",
       "      <td>abethr1/XC300827 - Bare-eyed Thrush - Turdus t...</td>\n",
       "      <td>new</td>\n",
       "      <td>0</td>\n",
       "    </tr>\n",
       "    <tr>\n",
       "      <th>2</th>\n",
       "      <td>abethr1</td>\n",
       "      <td>[]</td>\n",
       "      <td>abethr1/XC469066 - Bare-eyed Thrush - Turdus t...</td>\n",
       "      <td>new</td>\n",
       "      <td>0</td>\n",
       "    </tr>\n",
       "    <tr>\n",
       "      <th>3</th>\n",
       "      <td>abethr1</td>\n",
       "      <td>[]</td>\n",
       "      <td>abethr1/XC510447 - Bare-eyed Thrush - Turdus t...</td>\n",
       "      <td>new</td>\n",
       "      <td>0</td>\n",
       "    </tr>\n",
       "    <tr>\n",
       "      <th>4</th>\n",
       "      <td>abethr1</td>\n",
       "      <td>[]</td>\n",
       "      <td>abethr1/XC510448 - Bare-eyed Thrush - Turdus t...</td>\n",
       "      <td>new</td>\n",
       "      <td>0</td>\n",
       "    </tr>\n",
       "  </tbody>\n",
       "</table>\n",
       "</div>"
      ],
      "text/plain": [
       "  primary_label secondary_labels  \\\n",
       "0       abethr1               []   \n",
       "1       abethr1               []   \n",
       "2       abethr1               []   \n",
       "3       abethr1               []   \n",
       "4       abethr1               []   \n",
       "\n",
       "                                            filename version  label  \n",
       "0  abethr1/XC300826 - Bare-eyed Thrush - Turdus t...     new      0  \n",
       "1  abethr1/XC300827 - Bare-eyed Thrush - Turdus t...     new      0  \n",
       "2  abethr1/XC469066 - Bare-eyed Thrush - Turdus t...     new      0  \n",
       "3  abethr1/XC510447 - Bare-eyed Thrush - Turdus t...     new      0  \n",
       "4  abethr1/XC510448 - Bare-eyed Thrush - Turdus t...     new      0  "
      ]
     },
     "execution_count": 11,
     "metadata": {},
     "output_type": "execute_result"
    }
   ],
   "source": [
    "reversed_dict = {value: key for key, value in label_dict.items()}\n",
    "df['label'] = df['primary_label'].apply(lambda x: reversed_dict[x])\n",
    "df.head()"
   ]
  },
  {
   "cell_type": "code",
   "execution_count": 12,
   "metadata": {},
   "outputs": [],
   "source": [
    "# Разобьем наши данные с учётом стратификации по основному лейблу. \n",
    "def kfold_stratified(df, k_fold=4):\n",
    "    \n",
    "    skf = StratifiedKFold(n_splits=k_fold, shuffle=True, random_state=1771)\n",
    "    for fold, (train_index, test_index) in enumerate(skf.split(df, df['label'])):\n",
    "        df.loc[test_index, 'fold'] = int(fold) + 1\n",
    "    df['fold'] = df['fold'].astype(int)\n",
    "    return df\n",
    "\n",
    "df = kfold_stratified(df, k_fold=5)"
   ]
  },
  {
   "cell_type": "code",
   "execution_count": 13,
   "metadata": {},
   "outputs": [
    {
     "data": {
      "text/html": [
       "<div>\n",
       "<style scoped>\n",
       "    .dataframe tbody tr th:only-of-type {\n",
       "        vertical-align: middle;\n",
       "    }\n",
       "\n",
       "    .dataframe tbody tr th {\n",
       "        vertical-align: top;\n",
       "    }\n",
       "\n",
       "    .dataframe thead th {\n",
       "        text-align: right;\n",
       "    }\n",
       "</style>\n",
       "<table border=\"1\" class=\"dataframe\">\n",
       "  <thead>\n",
       "    <tr style=\"text-align: right;\">\n",
       "      <th></th>\n",
       "      <th>primary_label</th>\n",
       "      <th>secondary_labels</th>\n",
       "      <th>filename</th>\n",
       "      <th>version</th>\n",
       "      <th>label</th>\n",
       "      <th>fold</th>\n",
       "    </tr>\n",
       "  </thead>\n",
       "  <tbody>\n",
       "    <tr>\n",
       "      <th>0</th>\n",
       "      <td>abethr1</td>\n",
       "      <td>[]</td>\n",
       "      <td>abethr1/XC300826 - Bare-eyed Thrush - Turdus t...</td>\n",
       "      <td>new</td>\n",
       "      <td>0</td>\n",
       "      <td>5</td>\n",
       "    </tr>\n",
       "    <tr>\n",
       "      <th>1</th>\n",
       "      <td>abethr1</td>\n",
       "      <td>[]</td>\n",
       "      <td>abethr1/XC300827 - Bare-eyed Thrush - Turdus t...</td>\n",
       "      <td>new</td>\n",
       "      <td>0</td>\n",
       "      <td>4</td>\n",
       "    </tr>\n",
       "    <tr>\n",
       "      <th>2</th>\n",
       "      <td>abethr1</td>\n",
       "      <td>[]</td>\n",
       "      <td>abethr1/XC469066 - Bare-eyed Thrush - Turdus t...</td>\n",
       "      <td>new</td>\n",
       "      <td>0</td>\n",
       "      <td>3</td>\n",
       "    </tr>\n",
       "    <tr>\n",
       "      <th>3</th>\n",
       "      <td>abethr1</td>\n",
       "      <td>[]</td>\n",
       "      <td>abethr1/XC510447 - Bare-eyed Thrush - Turdus t...</td>\n",
       "      <td>new</td>\n",
       "      <td>0</td>\n",
       "      <td>5</td>\n",
       "    </tr>\n",
       "    <tr>\n",
       "      <th>4</th>\n",
       "      <td>abethr1</td>\n",
       "      <td>[]</td>\n",
       "      <td>abethr1/XC510448 - Bare-eyed Thrush - Turdus t...</td>\n",
       "      <td>new</td>\n",
       "      <td>0</td>\n",
       "      <td>4</td>\n",
       "    </tr>\n",
       "  </tbody>\n",
       "</table>\n",
       "</div>"
      ],
      "text/plain": [
       "  primary_label secondary_labels  \\\n",
       "0       abethr1               []   \n",
       "1       abethr1               []   \n",
       "2       abethr1               []   \n",
       "3       abethr1               []   \n",
       "4       abethr1               []   \n",
       "\n",
       "                                            filename version  label  fold  \n",
       "0  abethr1/XC300826 - Bare-eyed Thrush - Turdus t...     new      0     5  \n",
       "1  abethr1/XC300827 - Bare-eyed Thrush - Turdus t...     new      0     4  \n",
       "2  abethr1/XC469066 - Bare-eyed Thrush - Turdus t...     new      0     3  \n",
       "3  abethr1/XC510447 - Bare-eyed Thrush - Turdus t...     new      0     5  \n",
       "4  abethr1/XC510448 - Bare-eyed Thrush - Turdus t...     new      0     4  "
      ]
     },
     "execution_count": 13,
     "metadata": {},
     "output_type": "execute_result"
    }
   ],
   "source": [
    "df.head()"
   ]
  },
  {
   "cell_type": "code",
   "execution_count": 17,
   "metadata": {},
   "outputs": [],
   "source": [
    "#  Сохраним наш дафрейм для дальнейшей работы с ним. \n",
    "\n",
    "df.to_csv('../data/data.csv', index=False)"
   ]
  },
  {
   "cell_type": "code",
   "execution_count": null,
   "metadata": {},
   "outputs": [],
   "source": []
  }
 ],
 "metadata": {
  "kernelspec": {
   "display_name": "Python 3 (ipykernel)",
   "language": "python",
   "name": "python3"
  },
  "language_info": {
   "codemirror_mode": {
    "name": "ipython",
    "version": 3
   },
   "file_extension": ".py",
   "mimetype": "text/x-python",
   "name": "python",
   "nbconvert_exporter": "python",
   "pygments_lexer": "ipython3",
   "version": "3.10.7"
  }
 },
 "nbformat": 4,
 "nbformat_minor": 4
}
