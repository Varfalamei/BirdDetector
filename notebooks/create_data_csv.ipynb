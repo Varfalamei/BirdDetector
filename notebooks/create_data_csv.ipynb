{
 "cells": [
  {
   "cell_type": "markdown",
   "metadata": {
    "collapsed": false,
    "jupyter": {
     "outputs_hidden": false
    },
    "pycharm": {
     "is_executing": true
    }
   },
   "source": [
    "Создание data_csv для обучение и валидации модели. "
   ]
  },
  {
   "cell_type": "code",
   "execution_count": 13,
   "metadata": {},
   "outputs": [],
   "source": [
    "import os\n",
    "import sys\n",
    "import warnings\n",
    "\n",
    "warnings.filterwarnings(\"ignore\")\n",
    "sys.path.append(\"../scr/utils\")\n",
    "\n",
    "import pandas as pd\n",
    "import numpy as np\n",
    "from sklearn.model_selection import StratifiedKFold\n",
    "\n",
    "from constant import IGNORE_AUDIO, label_dict, sample_melee_100"
   ]
  },
  {
   "cell_type": "code",
   "execution_count": 14,
   "metadata": {},
   "outputs": [
    {
     "data": {
      "text/plain": "  primary_label secondary_labels              filename\n0       abethr1               []  abethr1/XC128013.ogg\n1       abethr1               []  abethr1/XC363501.ogg\n2       abethr1               []  abethr1/XC363502.ogg\n3       abethr1               []  abethr1/XC363503.ogg\n4       abethr1               []  abethr1/XC363504.ogg",
      "text/html": "<div>\n<style scoped>\n    .dataframe tbody tr th:only-of-type {\n        vertical-align: middle;\n    }\n\n    .dataframe tbody tr th {\n        vertical-align: top;\n    }\n\n    .dataframe thead th {\n        text-align: right;\n    }\n</style>\n<table border=\"1\" class=\"dataframe\">\n  <thead>\n    <tr style=\"text-align: right;\">\n      <th></th>\n      <th>primary_label</th>\n      <th>secondary_labels</th>\n      <th>filename</th>\n    </tr>\n  </thead>\n  <tbody>\n    <tr>\n      <th>0</th>\n      <td>abethr1</td>\n      <td>[]</td>\n      <td>abethr1/XC128013.ogg</td>\n    </tr>\n    <tr>\n      <th>1</th>\n      <td>abethr1</td>\n      <td>[]</td>\n      <td>abethr1/XC363501.ogg</td>\n    </tr>\n    <tr>\n      <th>2</th>\n      <td>abethr1</td>\n      <td>[]</td>\n      <td>abethr1/XC363502.ogg</td>\n    </tr>\n    <tr>\n      <th>3</th>\n      <td>abethr1</td>\n      <td>[]</td>\n      <td>abethr1/XC363503.ogg</td>\n    </tr>\n    <tr>\n      <th>4</th>\n      <td>abethr1</td>\n      <td>[]</td>\n      <td>abethr1/XC363504.ogg</td>\n    </tr>\n  </tbody>\n</table>\n</div>"
     },
     "execution_count": 14,
     "metadata": {},
     "output_type": "execute_result"
    }
   ],
   "source": [
    "# Посмотрим на данные которые есть в данных изначально \n",
    "\n",
    "path_to_base_df = \"../data/train_base.csv\"\n",
    "\n",
    "df_base = pd.read_csv(path_to_base_df, usecols=['primary_label', 'secondary_labels', 'filename'])\n",
    "df_base.head()"
   ]
  },
  {
   "cell_type": "code",
   "execution_count": 15,
   "metadata": {},
   "outputs": [
    {
     "data": {
      "text/plain": "   primary_label                   secondary_labels              filename\n5        abethr1                        ['rbsrob1']  abethr1/XC379322.ogg\n11       abethr1    ['eswdov1', 'helgui', 'rindov']  abethr1/XC606253.ogg\n15       abhori1                        ['combul2']  abhori1/XC120250.ogg\n16       abhori1                         ['rindov']  abhori1/XC120251.ogg\n17       abhori1  ['blbpuf2', 'fotdro5', 'reedov1']  abhori1/XC127317.ogg",
      "text/html": "<div>\n<style scoped>\n    .dataframe tbody tr th:only-of-type {\n        vertical-align: middle;\n    }\n\n    .dataframe tbody tr th {\n        vertical-align: top;\n    }\n\n    .dataframe thead th {\n        text-align: right;\n    }\n</style>\n<table border=\"1\" class=\"dataframe\">\n  <thead>\n    <tr style=\"text-align: right;\">\n      <th></th>\n      <th>primary_label</th>\n      <th>secondary_labels</th>\n      <th>filename</th>\n    </tr>\n  </thead>\n  <tbody>\n    <tr>\n      <th>5</th>\n      <td>abethr1</td>\n      <td>['rbsrob1']</td>\n      <td>abethr1/XC379322.ogg</td>\n    </tr>\n    <tr>\n      <th>11</th>\n      <td>abethr1</td>\n      <td>['eswdov1', 'helgui', 'rindov']</td>\n      <td>abethr1/XC606253.ogg</td>\n    </tr>\n    <tr>\n      <th>15</th>\n      <td>abhori1</td>\n      <td>['combul2']</td>\n      <td>abhori1/XC120250.ogg</td>\n    </tr>\n    <tr>\n      <th>16</th>\n      <td>abhori1</td>\n      <td>['rindov']</td>\n      <td>abhori1/XC120251.ogg</td>\n    </tr>\n    <tr>\n      <th>17</th>\n      <td>abhori1</td>\n      <td>['blbpuf2', 'fotdro5', 'reedov1']</td>\n      <td>abhori1/XC127317.ogg</td>\n    </tr>\n  </tbody>\n</table>\n</div>"
     },
     "execution_count": 15,
     "metadata": {},
     "output_type": "execute_result"
    }
   ],
   "source": [
    "df_base[df_base.secondary_labels != \"[]\"].head()"
   ]
  },
  {
   "cell_type": "code",
   "execution_count": 16,
   "metadata": {},
   "outputs": [
    {
     "name": "stdout",
     "output_type": "stream",
     "text": [
      "Кол-во разных птиц (лейблов) в наших данных: 264\n"
     ]
    }
   ],
   "source": [
    "print(f\"Кол-во разных птиц (лейблов) в наших данных: {df_base.primary_label.nunique()}\") "
   ]
  },
  {
   "cell_type": "markdown",
   "metadata": {},
   "source": [
    "Как мы видим в наших данных есть сэмплы, в которых на аудиозаписях встречается не одна птица. А на фоне слышны и другие птицы. Посмотрим кол-во таких аудиозаписей и уберем их из наших входных данных. "
   ]
  },
  {
   "cell_type": "code",
   "execution_count": 17,
   "metadata": {},
   "outputs": [
    {
     "name": "stdout",
     "output_type": "stream",
     "text": [
      "Старый обьем данных: 16941\n",
      "Новый  обьем данных: 14636\n"
     ]
    }
   ],
   "source": [
    "old_size = df_base.shape[0]\n",
    "df_base = df_base[~(df_base.secondary_labels != \"[]\")]\n",
    "new_size  = df_base.shape[0]\n",
    "\n",
    "print(f\"Старый обьем данных: {old_size}\")\n",
    "print(f\"Новый  обьем данных: {new_size}\")"
   ]
  },
  {
   "cell_type": "code",
   "execution_count": 18,
   "metadata": {},
   "outputs": [
    {
     "data": {
      "text/plain": "primary_label\ncomsan     492\nbarswa     491\nwlwwar     480\neaywag1    480\ncombuz1    466\n          ... \nyebsto1      1\nafpkin1      1\nwhhsaw1      1\nbrtcha1      1\nwhctur2      1\nName: count, Length: 263, dtype: int64"
     },
     "execution_count": 18,
     "metadata": {},
     "output_type": "execute_result"
    }
   ],
   "source": [
    "#Посмотрим сбалансированность данных. (Кол-во сэмплов под определенные таргеты)\n",
    "df_base.primary_label.value_counts()"
   ]
  },
  {
   "cell_type": "code",
   "execution_count": 19,
   "metadata": {},
   "outputs": [
    {
     "data": {
      "text/plain": "107"
     },
     "execution_count": 19,
     "metadata": {},
     "output_type": "execute_result"
    }
   ],
   "source": [
    "# Посмотрим кол-во лейблов у которых кол-во сэмплов меньше 20 \n",
    "sum(df_base.primary_label.value_counts() < 20)"
   ]
  },
  {
   "cell_type": "markdown",
   "metadata": {
    "jp-MarkdownHeadingCollapsed": true
   },
   "source": [
    "Наши данные сильно несбалансированны. Было решено: \n",
    "- Вручную прослушать аудиозаписи для rare_bird (Птицы, у которых не более 10 сэмплов в данных, и убрать из данных сильно зашумленные аудиозаписи. (Добавили в список IGNOR_AUDIO)\n",
    "- Для всех птиц у которых кол-во сэмплов < 20, Вручную отобрать и догрузить данные с примерами из открытого источника аудиозаписей xeno-canto.org\n",
    "- При дальнейшем обучение моделей использовать метод \"копии и разможнения данных с rare-bird, чтобы модель встречала все лейблы с +- равной периодичностью.\n",
    "  "
   ]
  },
  {
   "cell_type": "code",
   "execution_count": 20,
   "metadata": {},
   "outputs": [
    {
     "name": "stdout",
     "output_type": "stream",
     "text": [
      "Объем данных до удаления зашумленных аудио rare-bird: 14636\n",
      "Объем данных после удаления зашумленных аудио rare-bird: 14623\n"
     ]
    }
   ],
   "source": [
    "old_size = df_base.shape[0]\n",
    "df_base = df_base[~df_base['filename'].str.contains('|'.join(IGNORE_AUDIO), case=False, na=False)]\n",
    "df_base['version'] = 'base'\n",
    "new_size  = df_base.shape[0]\n",
    "\n",
    "print(f\"Объем данных до удаления зашумленных аудио rare-bird: {old_size}\")\n",
    "print(f\"Объем данных после удаления зашумленных аудио rare-bird: {new_size}\")"
   ]
  },
  {
   "cell_type": "code",
   "execution_count": 21,
   "metadata": {},
   "outputs": [
    {
     "name": "stdout",
     "output_type": "stream",
     "text": [
      "Объем данных добавленных вручную - 785\n"
     ]
    }
   ],
   "source": [
    "# Создадим датафрейм с данными, отобранными вручную с сайта xeno-canto.org\n",
    "new_data = {\"primary_label\": [],\n",
    "          \"secondary_labels\": [],\n",
    "          \"filename\": []\n",
    "         }\n",
    "\n",
    "path_to_folder_new = \"../data/add_audio\"\n",
    "\n",
    "for label in os.listdir(path_to_folder_new):\n",
    "    path_to_folder = os.path.join(path_to_folder_new, label)\n",
    "    for filename in os.listdir(path_to_folder):\n",
    "        new_data[\"primary_label\"].append(label)\n",
    "        new_data[\"secondary_labels\"].append([])\n",
    "        new_data[\"filename\"].append(f\"{label}/{filename}\")\n",
    "\n",
    "\n",
    "df_new = pd.DataFrame(new_data)\n",
    "df_new['version'] = 'new'\n",
    "print(f'Объем данных добавленных вручную - {df_new.shape[0]}')"
   ]
  },
  {
   "cell_type": "markdown",
   "metadata": {},
   "source": [
    "Таким образом, вручную нами было добавлено 785 новых сэмплов. \n",
    "Объединим наши данные в один датафрейм и разобьем на тренировочную и валидационную части. "
   ]
  },
  {
   "cell_type": "code",
   "execution_count": 22,
   "metadata": {},
   "outputs": [
    {
     "name": "stdout",
     "output_type": "stream",
     "text": [
      "Размер базовых данных 14623\n",
      "Размер добавленных данных 785\n",
      "Итоговый размер данных 15408\n"
     ]
    }
   ],
   "source": [
    "df = pd.concat([df_new, df_base], ignore_index=True)\n",
    "\n",
    "print(f\"Размер базовых данных {df_base.shape[0]}\")\n",
    "print(f\"Размер добавленных данных {df_new.shape[0]}\")\n",
    "print(f\"Итоговый размер данных {df.shape[0]}\")"
   ]
  },
  {
   "cell_type": "markdown",
   "metadata": {},
   "source": [
    "Закодируем названия лейблов в числовую кодировку с учетом файла label_dict"
   ]
  },
  {
   "cell_type": "code",
   "execution_count": 23,
   "metadata": {},
   "outputs": [
    {
     "data": {
      "text/plain": "  primary_label secondary_labels  \\\n0       abethr1               []   \n1       abethr1               []   \n2       abethr1               []   \n3       abethr1               []   \n4       abethr1               []   \n\n                                            filename version  label  \n0  abethr1/XC300826 - Bare-eyed Thrush - Turdus t...     new      0  \n1  abethr1/XC300827 - Bare-eyed Thrush - Turdus t...     new      0  \n2  abethr1/XC469066 - Bare-eyed Thrush - Turdus t...     new      0  \n3  abethr1/XC510447 - Bare-eyed Thrush - Turdus t...     new      0  \n4  abethr1/XC510448 - Bare-eyed Thrush - Turdus t...     new      0  ",
      "text/html": "<div>\n<style scoped>\n    .dataframe tbody tr th:only-of-type {\n        vertical-align: middle;\n    }\n\n    .dataframe tbody tr th {\n        vertical-align: top;\n    }\n\n    .dataframe thead th {\n        text-align: right;\n    }\n</style>\n<table border=\"1\" class=\"dataframe\">\n  <thead>\n    <tr style=\"text-align: right;\">\n      <th></th>\n      <th>primary_label</th>\n      <th>secondary_labels</th>\n      <th>filename</th>\n      <th>version</th>\n      <th>label</th>\n    </tr>\n  </thead>\n  <tbody>\n    <tr>\n      <th>0</th>\n      <td>abethr1</td>\n      <td>[]</td>\n      <td>abethr1/XC300826 - Bare-eyed Thrush - Turdus t...</td>\n      <td>new</td>\n      <td>0</td>\n    </tr>\n    <tr>\n      <th>1</th>\n      <td>abethr1</td>\n      <td>[]</td>\n      <td>abethr1/XC300827 - Bare-eyed Thrush - Turdus t...</td>\n      <td>new</td>\n      <td>0</td>\n    </tr>\n    <tr>\n      <th>2</th>\n      <td>abethr1</td>\n      <td>[]</td>\n      <td>abethr1/XC469066 - Bare-eyed Thrush - Turdus t...</td>\n      <td>new</td>\n      <td>0</td>\n    </tr>\n    <tr>\n      <th>3</th>\n      <td>abethr1</td>\n      <td>[]</td>\n      <td>abethr1/XC510447 - Bare-eyed Thrush - Turdus t...</td>\n      <td>new</td>\n      <td>0</td>\n    </tr>\n    <tr>\n      <th>4</th>\n      <td>abethr1</td>\n      <td>[]</td>\n      <td>abethr1/XC510448 - Bare-eyed Thrush - Turdus t...</td>\n      <td>new</td>\n      <td>0</td>\n    </tr>\n  </tbody>\n</table>\n</div>"
     },
     "execution_count": 23,
     "metadata": {},
     "output_type": "execute_result"
    }
   ],
   "source": [
    "reversed_dict = {value: key for key, value in label_dict.items()}\n",
    "df['label'] = df['primary_label'].apply(lambda x: reversed_dict[x])\n",
    "df.head()"
   ]
  },
  {
   "cell_type": "code",
   "execution_count": 24,
   "outputs": [
    {
     "data": {
      "text/plain": "{'abethr1': 0,\n 'abhori1': 1,\n 'abythr1': 2,\n 'afbfly1': 3,\n 'afdfly1': 4,\n 'afecuc1': 5,\n 'affeag1': 6,\n 'afgfly1': 7,\n 'afghor1': 8,\n 'afmdov1': 9,\n 'afpfly1': 10,\n 'afpkin1': 11,\n 'afpwag1': 12,\n 'afrgos1': 13,\n 'afrgrp1': 14,\n 'afrjac1': 15,\n 'afrthr1': 16,\n 'amesun2': 17,\n 'augbuz1': 18,\n 'bagwea1': 19,\n 'barswa': 20,\n 'bawhor2': 21,\n 'bawman1': 22,\n 'bcbeat1': 23,\n 'beasun2': 24,\n 'bkctch1': 25,\n 'bkfruw1': 26,\n 'blacra1': 27,\n 'blacuc1': 28,\n 'blakit1': 29,\n 'blaplo1': 30,\n 'blbpuf2': 31,\n 'blcapa2': 32,\n 'blfbus1': 33,\n 'blhgon1': 34,\n 'blhher1': 35,\n 'blksaw1': 36,\n 'blnmou1': 37,\n 'blnwea1': 38,\n 'bltapa1': 39,\n 'bltbar1': 40,\n 'bltori1': 41,\n 'blwlap1': 42,\n 'brcale1': 43,\n 'brcsta1': 44,\n 'brctch1': 45,\n 'brcwea1': 46,\n 'brican1': 47,\n 'brobab1': 48,\n 'broman1': 49,\n 'brosun1': 50,\n 'brrwhe3': 51,\n 'brtcha1': 52,\n 'brubru1': 53,\n 'brwwar1': 54,\n 'bswdov1': 55,\n 'btweye2': 56,\n 'bubwar2': 57,\n 'butapa1': 58,\n 'cabgre1': 59,\n 'carcha1': 60,\n 'carwoo1': 61,\n 'categr': 62,\n 'ccbeat1': 63,\n 'chespa1': 64,\n 'chewea1': 65,\n 'chibat1': 66,\n 'chtapa3': 67,\n 'chucis1': 68,\n 'cibwar1': 69,\n 'cohmar1': 70,\n 'colsun2': 71,\n 'combul2': 72,\n 'combuz1': 73,\n 'comsan': 74,\n 'crefra2': 75,\n 'crheag1': 76,\n 'crohor1': 77,\n 'darbar1': 78,\n 'darter3': 79,\n 'didcuc1': 80,\n 'dotbar1': 81,\n 'dutdov1': 82,\n 'easmog1': 83,\n 'eaywag1': 84,\n 'edcsun3': 85,\n 'egygoo': 86,\n 'equaka1': 87,\n 'eswdov1': 88,\n 'eubeat1': 89,\n 'fatrav1': 90,\n 'fatwid1': 91,\n 'fislov1': 92,\n 'fotdro5': 93,\n 'gabgos2': 94,\n 'gargan': 95,\n 'gbesta1': 96,\n 'gnbcam2': 97,\n 'gnhsun1': 98,\n 'gobbun1': 99,\n 'gobsta5': 100,\n 'gobwea1': 101,\n 'golher1': 102,\n 'grbcam1': 103,\n 'grccra1': 104,\n 'grecor': 105,\n 'greegr': 106,\n 'grewoo2': 107,\n 'grwpyt1': 108,\n 'gryapa1': 109,\n 'grywrw1': 110,\n 'gybfis1': 111,\n 'gycwar3': 112,\n 'gyhbus1': 113,\n 'gyhkin1': 114,\n 'gyhneg1': 115,\n 'gyhspa1': 116,\n 'gytbar1': 117,\n 'hadibi1': 118,\n 'hamerk1': 119,\n 'hartur1': 120,\n 'helgui': 121,\n 'hipbab1': 122,\n 'hoopoe': 123,\n 'huncis1': 124,\n 'hunsun2': 125,\n 'joygre1': 126,\n 'kerspa2': 127,\n 'klacuc1': 128,\n 'kvbsun1': 129,\n 'laudov1': 130,\n 'lawgol': 131,\n 'lesmaw1': 132,\n 'lessts1': 133,\n 'libeat1': 134,\n 'litegr': 135,\n 'litswi1': 136,\n 'litwea1': 137,\n 'loceag1': 138,\n 'lotcor1': 139,\n 'lotlap1': 140,\n 'luebus1': 141,\n 'mabeat1': 142,\n 'macshr1': 143,\n 'malkin1': 144,\n 'marsto1': 145,\n 'marsun2': 146,\n 'mcptit1': 147,\n 'meypar1': 148,\n 'moccha1': 149,\n 'mouwag1': 150,\n 'ndcsun2': 151,\n 'nobfly1': 152,\n 'norbro1': 153,\n 'norcro1': 154,\n 'norfis1': 155,\n 'norpuf1': 156,\n 'nubwoo1': 157,\n 'pabspa1': 158,\n 'palfly2': 159,\n 'palpri1': 160,\n 'piecro1': 161,\n 'piekin1': 162,\n 'pitwhy': 163,\n 'purgre2': 164,\n 'pygbat1': 165,\n 'quailf1': 166,\n 'ratcis1': 167,\n 'raybar1': 168,\n 'rbsrob1': 169,\n 'rebfir2': 170,\n 'rebhor1': 171,\n 'reboxp1': 172,\n 'reccor': 173,\n 'reccuc1': 174,\n 'reedov1': 175,\n 'refbar2': 176,\n 'refcro1': 177,\n 'reftin1': 178,\n 'refwar2': 179,\n 'rehblu1': 180,\n 'rehwea1': 181,\n 'reisee2': 182,\n 'rerswa1': 183,\n 'rewsta1': 184,\n 'rindov': 185,\n 'rocmar2': 186,\n 'rostur1': 187,\n 'ruegls1': 188,\n 'rufcha2': 189,\n 'sacibi2': 190,\n 'sccsun2': 191,\n 'scrcha1': 192,\n 'scthon1': 193,\n 'shesta1': 194,\n 'sichor1': 195,\n 'sincis1': 196,\n 'slbgre1': 197,\n 'slcbou1': 198,\n 'sltnig1': 199,\n 'sobfly1': 200,\n 'somgre1': 201,\n 'somtit4': 202,\n 'soucit1': 203,\n 'soufis1': 204,\n 'spemou2': 205,\n 'spepig1': 206,\n 'spewea1': 207,\n 'spfbar1': 208,\n 'spfwea1': 209,\n 'spmthr1': 210,\n 'spwlap1': 211,\n 'squher1': 212,\n 'strher': 213,\n 'strsee1': 214,\n 'stusta1': 215,\n 'subbus1': 216,\n 'supsta1': 217,\n 'tacsun1': 218,\n 'tafpri1': 219,\n 'tamdov1': 220,\n 'thrnig1': 221,\n 'trobou1': 222,\n 'varsun2': 223,\n 'vibsta2': 224,\n 'vilwea1': 225,\n 'vimwea1': 226,\n 'walsta1': 227,\n 'wbgbir1': 228,\n 'wbrcha2': 229,\n 'wbswea1': 230,\n 'wfbeat1': 231,\n 'whbcan1': 232,\n 'whbcou1': 233,\n 'whbcro2': 234,\n 'whbtit5': 235,\n 'whbwea1': 236,\n 'whbwhe3': 237,\n 'whcpri2': 238,\n 'whctur2': 239,\n 'wheslf1': 240,\n 'whhsaw1': 241,\n 'whihel1': 242,\n 'whrshr1': 243,\n 'witswa1': 244,\n 'wlwwar': 245,\n 'wookin1': 246,\n 'woosan': 247,\n 'wtbeat1': 248,\n 'yebapa1': 249,\n 'yebbar1': 250,\n 'yebduc1': 251,\n 'yebere1': 252,\n 'yebgre1': 253,\n 'yebsto1': 254,\n 'yeccan1': 255,\n 'yefcan': 256,\n 'yelbis1': 257,\n 'yenspu1': 258,\n 'yertin1': 259,\n 'yesbar1': 260,\n 'yespet1': 261,\n 'yetgre1': 262,\n 'yewgre1': 263}"
     },
     "execution_count": 24,
     "metadata": {},
     "output_type": "execute_result"
    }
   ],
   "source": [
    "reversed_dict"
   ],
   "metadata": {
    "collapsed": false
   }
  },
  {
   "cell_type": "code",
   "execution_count": 25,
   "metadata": {},
   "outputs": [],
   "source": [
    "# Разобьем наши данные с учётом стратификации по основному лейблу. \n",
    "def kfold_stratified(df, k_fold=4):\n",
    "    \n",
    "    skf = StratifiedKFold(n_splits=k_fold, shuffle=True, random_state=1771)\n",
    "    for fold, (train_index, test_index) in enumerate(skf.split(df, df['label'])):\n",
    "        df.loc[test_index, 'fold'] = int(fold) + 1\n",
    "    df['fold'] = df['fold'].astype(int)\n",
    "    return df\n",
    "\n",
    "df = kfold_stratified(df, k_fold=5)"
   ]
  },
  {
   "cell_type": "code",
   "execution_count": 26,
   "metadata": {},
   "outputs": [
    {
     "data": {
      "text/plain": "  primary_label secondary_labels  \\\n0       abethr1               []   \n1       abethr1               []   \n2       abethr1               []   \n3       abethr1               []   \n4       abethr1               []   \n\n                                            filename version  label  fold  \n0  abethr1/XC300826 - Bare-eyed Thrush - Turdus t...     new      0     5  \n1  abethr1/XC300827 - Bare-eyed Thrush - Turdus t...     new      0     4  \n2  abethr1/XC469066 - Bare-eyed Thrush - Turdus t...     new      0     3  \n3  abethr1/XC510447 - Bare-eyed Thrush - Turdus t...     new      0     5  \n4  abethr1/XC510448 - Bare-eyed Thrush - Turdus t...     new      0     4  ",
      "text/html": "<div>\n<style scoped>\n    .dataframe tbody tr th:only-of-type {\n        vertical-align: middle;\n    }\n\n    .dataframe tbody tr th {\n        vertical-align: top;\n    }\n\n    .dataframe thead th {\n        text-align: right;\n    }\n</style>\n<table border=\"1\" class=\"dataframe\">\n  <thead>\n    <tr style=\"text-align: right;\">\n      <th></th>\n      <th>primary_label</th>\n      <th>secondary_labels</th>\n      <th>filename</th>\n      <th>version</th>\n      <th>label</th>\n      <th>fold</th>\n    </tr>\n  </thead>\n  <tbody>\n    <tr>\n      <th>0</th>\n      <td>abethr1</td>\n      <td>[]</td>\n      <td>abethr1/XC300826 - Bare-eyed Thrush - Turdus t...</td>\n      <td>new</td>\n      <td>0</td>\n      <td>5</td>\n    </tr>\n    <tr>\n      <th>1</th>\n      <td>abethr1</td>\n      <td>[]</td>\n      <td>abethr1/XC300827 - Bare-eyed Thrush - Turdus t...</td>\n      <td>new</td>\n      <td>0</td>\n      <td>4</td>\n    </tr>\n    <tr>\n      <th>2</th>\n      <td>abethr1</td>\n      <td>[]</td>\n      <td>abethr1/XC469066 - Bare-eyed Thrush - Turdus t...</td>\n      <td>new</td>\n      <td>0</td>\n      <td>3</td>\n    </tr>\n    <tr>\n      <th>3</th>\n      <td>abethr1</td>\n      <td>[]</td>\n      <td>abethr1/XC510447 - Bare-eyed Thrush - Turdus t...</td>\n      <td>new</td>\n      <td>0</td>\n      <td>5</td>\n    </tr>\n    <tr>\n      <th>4</th>\n      <td>abethr1</td>\n      <td>[]</td>\n      <td>abethr1/XC510448 - Bare-eyed Thrush - Turdus t...</td>\n      <td>new</td>\n      <td>0</td>\n      <td>4</td>\n    </tr>\n  </tbody>\n</table>\n</div>"
     },
     "execution_count": 26,
     "metadata": {},
     "output_type": "execute_result"
    }
   ],
   "source": [
    "df.head()"
   ]
  },
  {
   "cell_type": "code",
   "execution_count": 27,
   "metadata": {},
   "outputs": [],
   "source": [
    "#  Сохраним наш дафрейм для дальнейшей работы с ним. \n",
    "\n",
    "df.to_csv('../data/data.csv', index=False)"
   ]
  },
  {
   "cell_type": "code",
   "execution_count": null,
   "metadata": {},
   "outputs": [],
   "source": []
  },
  {
   "cell_type": "code",
   "execution_count": null,
   "outputs": [],
   "source": [],
   "metadata": {
    "collapsed": false
   }
  }
 ],
 "metadata": {
  "kernelspec": {
   "display_name": "Python 3 (ipykernel)",
   "language": "python",
   "name": "python3"
  },
  "language_info": {
   "codemirror_mode": {
    "name": "ipython",
    "version": 3
   },
   "file_extension": ".py",
   "mimetype": "text/x-python",
   "name": "python",
   "nbconvert_exporter": "python",
   "pygments_lexer": "ipython3",
   "version": "3.10.7"
  }
 },
 "nbformat": 4,
 "nbformat_minor": 4
}
